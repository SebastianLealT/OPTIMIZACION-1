{
  "nbformat": 4,
  "nbformat_minor": 0,
  "metadata": {
    "colab": {
      "name": "Optimización con restricciones.ipynb",
      "provenance": [],
      "authorship_tag": "ABX9TyNqWuBe26rKJAhviBEKfyDx",
      "include_colab_link": true
    },
    "kernelspec": {
      "name": "python3",
      "display_name": "Python 3"
    },
    "language_info": {
      "name": "python"
    }
  },
  "cells": [
    {
      "cell_type": "markdown",
      "metadata": {
        "id": "view-in-github",
        "colab_type": "text"
      },
      "source": [
        "<a href=\"https://colab.research.google.com/github/SebastianLealT/OPTIMIZACION-1/blob/main/Optimizaci%C3%B3n_con_restricciones.ipynb\" target=\"_parent\"><img src=\"https://colab.research.google.com/assets/colab-badge.svg\" alt=\"Open In Colab\"/></a>"
      ]
    },
    {
      "cell_type": "markdown",
      "source": [
        "#Problema de optimización con restricciones\n",
        "###Johan Sebastian Leal\n",
        "###Curso de Optimización I\n",
        "###Universidad del valle- Cali\n",
        "\n",
        "Importamos los siguientes paquetes:"
      ],
      "metadata": {
        "id": "ejgloE2k_xvU"
      }
    },
    {
      "cell_type": "code",
      "source": [
        "import numpy as np\n",
        "import matplotlib.pyplot as plt\n",
        "from scipy import optimize"
      ],
      "metadata": {
        "id": "Zm9lQbBdCFfl"
      },
      "execution_count": 1,
      "outputs": []
    },
    {
      "cell_type": "markdown",
      "source": [
        "##Función a evaluar y algunos otros cálculos\n",
        "\n",
        "Definimos nuestra función objetivo, en este caso será:\n",
        "\n",
        "$$f(x,y)=(x+2y-7)^{2}+(2x+y-5)^{2}$$\n",
        "\n",
        "la cual es conocida como *Booth Function*."
      ],
      "metadata": {
        "id": "OcnQh71LBt6L"
      }
    },
    {
      "cell_type": "code",
      "execution_count": null,
      "metadata": {
        "id": "Md-nYcmI_v25"
      },
      "outputs": [],
      "source": [
        "def booth(x):\n",
        "  return ((x[0] + (2*x[1]) -7)**2) + (((2*x[0]) + x[1] - 5)**2)"
      ]
    },
    {
      "cell_type": "markdown",
      "source": [
        "Será necesario conocer el gradiente, el jacobiano o la Hessiana de la función en cuestión, para ello realizamos algunos cálculos manuales y definimos cada una de estas operaciones. Iniciaremos por definir el gradiente de la función Booth como:\n",
        "\n",
        "$$\\nabla f(x,y) = \\langle 2(x+2y-7)+4(2x+y-5), 4(x+2y-7)+2(2x+y-5)\\rangle$$"
      ],
      "metadata": {
        "id": "piQcFt_HDKiv"
      }
    },
    {
      "cell_type": "code",
      "source": [
        "#Se define el gradiente\n",
        "def Df(x):\n",
        "  return np.array([(2*(x[0] + (2*x[1]) -7)) + (4*((2*x[0]) + x[1] - 5)) , (4*(x[0] + (2*x[1]) -7)) + (2*((2*x[0]) + x[1] - 5))])"
      ],
      "metadata": {
        "id": "dlT-55zADQxg"
      },
      "execution_count": null,
      "outputs": []
    },
    {
      "cell_type": "markdown",
      "source": [
        "Por último hacemos el cálculo de la Hessiana y definimos la función en el código:\n",
        "\n",
        "$$H(x,y)=\\begin{bmatrix} 10& 8\\\\ 8& 10\\end{bmatrix}$$"
      ],
      "metadata": {
        "id": "uPX96jkKDadx"
      }
    },
    {
      "cell_type": "code",
      "source": [
        "#Se define la Hessiana\n",
        "def Hf(x):\n",
        "  x = np.asarray(x)\n",
        "  H = np.diag([10 , 10 ])\n",
        "  H[1,0]= 8\n",
        "  H[0,1]= 8\n",
        "  return H"
      ],
      "metadata": {
        "id": "izP_MkLUDgEp"
      },
      "execution_count": null,
      "outputs": []
    },
    {
      "cell_type": "markdown",
      "source": [
        "##Conclusiones"
      ],
      "metadata": {
        "id": "46BEz9R2AJKF"
      }
    },
    {
      "cell_type": "markdown",
      "source": [
        ""
      ],
      "metadata": {
        "id": "lr6PlHuwATGZ"
      }
    },
    {
      "cell_type": "markdown",
      "source": [
        "##Referencias"
      ],
      "metadata": {
        "id": "gMPm0RnMAJNK"
      }
    },
    {
      "cell_type": "markdown",
      "source": [
        "1. Heath, M. T. (2018). Scientific Computing: An Introductory Survey, Revised Second Edition. Society for Industrial and Applied Mathematics.\n",
        "2. Chong, E. K., & Zak, S. H. (2004). An introduction to optimization. John Wiley & Sons."
      ],
      "metadata": {
        "id": "zOgi4pBaAUCo"
      }
    }
  ]
}