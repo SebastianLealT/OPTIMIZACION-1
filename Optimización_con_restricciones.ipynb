{
  "nbformat": 4,
  "nbformat_minor": 0,
  "metadata": {
    "colab": {
      "name": "Optimización con restricciones.ipynb",
      "provenance": [],
      "authorship_tag": "ABX9TyOEYBaKm3mytsZUScVU3crM",
      "include_colab_link": true
    },
    "kernelspec": {
      "name": "python3",
      "display_name": "Python 3"
    },
    "language_info": {
      "name": "python"
    }
  },
  "cells": [
    {
      "cell_type": "markdown",
      "metadata": {
        "id": "view-in-github",
        "colab_type": "text"
      },
      "source": [
        "<a href=\"https://colab.research.google.com/github/SebastianLealT/OPTIMIZACION-1/blob/main/Optimizaci%C3%B3n_con_restricciones.ipynb\" target=\"_parent\"><img src=\"https://colab.research.google.com/assets/colab-badge.svg\" alt=\"Open In Colab\"/></a>"
      ]
    },
    {
      "cell_type": "markdown",
      "source": [
        "#Problema de optimización con restricciones\n",
        "###Johan Sebastian Leal\n",
        "###Curso de Optimización I\n",
        "###Universidad del valle- Cali\n",
        "\n",
        "Importamos los siguientes paquetes:"
      ],
      "metadata": {
        "id": "ejgloE2k_xvU"
      }
    },
    {
      "cell_type": "code",
      "source": [
        "import numpy as np\n",
        "import matplotlib.pyplot as plt\n",
        "from scipy import optimize"
      ],
      "metadata": {
        "id": "Zm9lQbBdCFfl"
      },
      "execution_count": 1,
      "outputs": []
    },
    {
      "cell_type": "markdown",
      "source": [
        "##Función a evaluar y algunos otros cálculos"
      ],
      "metadata": {
        "id": "OcnQh71LBt6L"
      }
    },
    {
      "cell_type": "code",
      "execution_count": null,
      "metadata": {
        "id": "Md-nYcmI_v25"
      },
      "outputs": [],
      "source": [
        ""
      ]
    },
    {
      "cell_type": "markdown",
      "source": [
        "##Conclusiones"
      ],
      "metadata": {
        "id": "46BEz9R2AJKF"
      }
    },
    {
      "cell_type": "markdown",
      "source": [
        ""
      ],
      "metadata": {
        "id": "lr6PlHuwATGZ"
      }
    },
    {
      "cell_type": "markdown",
      "source": [
        "##Referencias"
      ],
      "metadata": {
        "id": "gMPm0RnMAJNK"
      }
    },
    {
      "cell_type": "markdown",
      "source": [
        "1. Heath, M. T. (2018). Scientific Computing: An Introductory Survey, Revised Second Edition. Society for Industrial and Applied Mathematics.\n",
        "2. Chong, E. K., & Zak, S. H. (2004). An introduction to optimization. John Wiley & Sons."
      ],
      "metadata": {
        "id": "zOgi4pBaAUCo"
      }
    }
  ]
}