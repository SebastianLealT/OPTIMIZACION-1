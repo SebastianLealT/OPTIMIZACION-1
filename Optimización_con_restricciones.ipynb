{
  "nbformat": 4,
  "nbformat_minor": 0,
  "metadata": {
    "colab": {
      "name": "Optimización con restricciones.ipynb",
      "provenance": [],
      "authorship_tag": "ABX9TyPAKpOyhc3/SvJEjC2NDI+z",
      "include_colab_link": true
    },
    "kernelspec": {
      "name": "python3",
      "display_name": "Python 3"
    },
    "language_info": {
      "name": "python"
    }
  },
  "cells": [
    {
      "cell_type": "markdown",
      "metadata": {
        "id": "view-in-github",
        "colab_type": "text"
      },
      "source": [
        "<a href=\"https://colab.research.google.com/github/SebastianLealT/OPTIMIZACION-1/blob/main/Optimizaci%C3%B3n_con_restricciones.ipynb\" target=\"_parent\"><img src=\"https://colab.research.google.com/assets/colab-badge.svg\" alt=\"Open In Colab\"/></a>"
      ]
    },
    {
      "cell_type": "markdown",
      "source": [
        "#Problema de optimización con restricciones\n",
        "###Johan Sebastian Leal\n",
        "###Curso de Optimización I\n",
        "###Universidad del valle, Cali\n",
        "\n",
        "En este cuaderno nos centraremos en resolver dos casos de optimización con restricciones no lineales para una misma función objetivo. La función escogida es conocida como *Booth Function* que estará definida en la primera sección de este documento.\n",
        "\n",
        "Para la realización de este proyecto será necesario importar los siguientes paquetes:"
      ],
      "metadata": {
        "id": "ejgloE2k_xvU"
      }
    },
    {
      "cell_type": "code",
      "source": [
        "import numpy as np\n",
        "import matplotlib.pyplot as plt\n",
        "from scipy import optimize"
      ],
      "metadata": {
        "id": "Zm9lQbBdCFfl"
      },
      "execution_count": 1,
      "outputs": []
    },
    {
      "cell_type": "markdown",
      "source": [
        "##Función a evaluar y algunos otros cálculos\n",
        "\n",
        "Definimos nuestra función objetivo, en este caso será:\n",
        "\n",
        "$$f(x,y)=(x+2y-7)^{2}+(2x+y-5)^{2}$$\n",
        "\n",
        "la cual es conocida como *Booth Function*."
      ],
      "metadata": {
        "id": "OcnQh71LBt6L"
      }
    },
    {
      "cell_type": "code",
      "execution_count": 2,
      "metadata": {
        "id": "Md-nYcmI_v25"
      },
      "outputs": [],
      "source": [
        "def booth(x):\n",
        "  return ((x[0] + (2*x[1]) -7)**2) + (((2*x[0]) + x[1] - 5)**2)"
      ]
    },
    {
      "cell_type": "markdown",
      "source": [
        "Habiendo definido la función objetivo, será necesario conocer el Jacobiano y la Hessiana de la función en cuestión, para ello realizamos algunos cálculos manuales y definimos cada una de estas operaciones como se muestra:\n",
        "\n",
        "1. Jacobiano de $f(x,y)$:\n",
        "$$J(x,y)=\\begin{bmatrix} 2(x+2y-7)+4(2x+y-5)\\\\ 4(x+2y-7)+2(2x+y-5)\\end{bmatrix}$$\n",
        "\n",
        "2. Hessiana de $f(x,y)$:\n",
        "$$H(x,y)=\\begin{bmatrix} 10& 8\\\\ 8& 10\\end{bmatrix}$$"
      ],
      "metadata": {
        "id": "piQcFt_HDKiv"
      }
    },
    {
      "cell_type": "code",
      "source": [
        "#Se define el jacobiano\n",
        "def Jf(x):\n",
        "  der = np.zeros_like(x)\n",
        "  der[0]= (2*(x[0] + (2*x[1]) -7)) + (4*((2*x[0]) + x[1] - 5))\n",
        "  der[1]= (4*(x[0] + (2*x[1]) -7)) + (2*((2*x[0]) + x[1] - 5))\n",
        "  return der\n",
        "\n",
        "#Se define la Hessiana\n",
        "def Hf(x):\n",
        "  x = np.asarray(x)\n",
        "  H = np.diag([10 , 10 ])\n",
        "  H[1,0]= 8\n",
        "  H[0,1]= 8\n",
        "  return H"
      ],
      "metadata": {
        "id": "izP_MkLUDgEp"
      },
      "execution_count": 3,
      "outputs": []
    },
    {
      "cell_type": "markdown",
      "source": [
        "##Problema de optimización \\#1\n",
        "\n",
        "Minimice la función $f(x,y)$ sujeto a las siguientes restricciones:\n",
        "\n",
        "Restricciones lineales:\n",
        "\n",
        "$$x+2y \\leq 1$$\n",
        "$$ 2x+y= 1 $$\n",
        "\n",
        "Restricciones no lineales:\n",
        "$$x^2 + y \\leq 1$$\n",
        "$$x^2 - y \\leq 1 $$\n",
        "\n",
        "Cotas:\n",
        "$$ -10 \\leq x \\leq 10 $$\n",
        "$$ -10 \\leq y \\leq 10$$"
      ],
      "metadata": {
        "id": "ftO5QY6ShrFX"
      }
    },
    {
      "cell_type": "code",
      "source": [
        "#[cotas inferiores, cotas superiores]\n",
        "bounds = optimize.Bounds([-10, -10], [10,10])\n",
        "bounds"
      ],
      "metadata": {
        "colab": {
          "base_uri": "https://localhost:8080/"
        },
        "id": "j4PSE8ZOgZGZ",
        "outputId": "8c9e2de1-da3e-4c8e-8329-a2e0ee8d9f07"
      },
      "execution_count": 4,
      "outputs": [
        {
          "output_type": "execute_result",
          "data": {
            "text/plain": [
              "Bounds([-10, -10], [10, 10])"
            ]
          },
          "metadata": {},
          "execution_count": 4
        }
      ]
    },
    {
      "cell_type": "markdown",
      "source": [
        "##Problema de optimización \\#2\n",
        "\n",
        "Minimice la función $f(x,y)$ sujeto a las siguientes restricciones:\n",
        "\n",
        "Restricciones lineales:\n",
        "\n",
        "$$x+2y \\leq 1$$\n",
        "$$ 2x+y= 1 $$\n",
        "\n",
        "Restricciones no lineales:\n",
        "$$x^2 + y \\leq 1$$\n",
        "$$x^2 - y \\leq 1 $$\n",
        "\n",
        "Cotas:\n",
        "$$ -10 \\leq x \\leq 10 $$\n",
        "$$ -10 \\leq y \\leq 10$$"
      ],
      "metadata": {
        "id": "lQdS49-gjTJj"
      }
    },
    {
      "cell_type": "markdown",
      "source": [
        "##Conclusiones"
      ],
      "metadata": {
        "id": "46BEz9R2AJKF"
      }
    },
    {
      "cell_type": "markdown",
      "source": [
        ""
      ],
      "metadata": {
        "id": "lr6PlHuwATGZ"
      }
    },
    {
      "cell_type": "markdown",
      "source": [
        "##Referencias"
      ],
      "metadata": {
        "id": "gMPm0RnMAJNK"
      }
    },
    {
      "cell_type": "markdown",
      "source": [
        "1. Heath, M. T. (2018). Scientific Computing: An Introductory Survey, Revised Second Edition. Society for Industrial and Applied Mathematics.\n",
        "2. Chong, E. K., & Zak, S. H. (2004). An introduction to optimization. John Wiley & Sons."
      ],
      "metadata": {
        "id": "zOgi4pBaAUCo"
      }
    }
  ]
}