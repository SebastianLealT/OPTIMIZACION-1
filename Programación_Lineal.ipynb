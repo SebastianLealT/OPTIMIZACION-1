{
  "nbformat": 4,
  "nbformat_minor": 0,
  "metadata": {
    "colab": {
      "name": "Programación Lineal.ipynb",
      "provenance": [],
      "include_colab_link": true
    },
    "kernelspec": {
      "name": "python3",
      "display_name": "Python 3"
    },
    "language_info": {
      "name": "python"
    }
  },
  "cells": [
    {
      "cell_type": "markdown",
      "metadata": {
        "id": "view-in-github",
        "colab_type": "text"
      },
      "source": [
        "<a href=\"https://colab.research.google.com/github/SebastianLealT/OPTIMIZACION-1/blob/main/Programaci%C3%B3n_Lineal.ipynb\" target=\"_parent\"><img src=\"https://colab.research.google.com/assets/colab-badge.svg\" alt=\"Open In Colab\"/></a>"
      ]
    },
    {
      "cell_type": "markdown",
      "source": [
        "# Programación Lineal: Problema ...\n",
        "### Johan Sebastian Leal Toro\n",
        "### Universidad del Valle- Cali\n",
        "### Curso de Optimización I\n",
        "\n",
        "En este cuaderno nos centraremos en optimizar un problema usando la programación lineal, para ello importamos los siguientes paquetes:"
      ],
      "metadata": {
        "id": "zzWK_NdC3Eb9"
      }
    },
    {
      "cell_type": "code",
      "source": [
        "!pip install PuLP"
      ],
      "metadata": {
        "colab": {
          "base_uri": "https://localhost:8080/"
        },
        "id": "rKZltol-5IyX",
        "outputId": "957b3370-c8cf-4949-abc8-04ced90b7c46"
      },
      "execution_count": null,
      "outputs": [
        {
          "output_type": "stream",
          "name": "stdout",
          "text": [
            "Collecting PuLP\n",
            "  Downloading PuLP-2.6.0-py3-none-any.whl (14.2 MB)\n",
            "\u001b[K     |████████████████████████████████| 14.2 MB 4.6 MB/s \n",
            "\u001b[?25hInstalling collected packages: PuLP\n",
            "Successfully installed PuLP-2.6.0\n"
          ]
        }
      ]
    },
    {
      "cell_type": "code",
      "source": [
        "import numpy as np\n",
        "import matplotlib.pyplot as plt\n",
        "from scipy import optimize\n",
        "import pulp as pl"
      ],
      "metadata": {
        "id": "bYVwg0N55BhM"
      },
      "execution_count": null,
      "outputs": []
    },
    {
      "cell_type": "markdown",
      "source": [
        "## Problema planteado"
      ],
      "metadata": {
        "id": "byXZOS4U36v3"
      }
    },
    {
      "cell_type": "code",
      "execution_count": null,
      "metadata": {
        "id": "kuveFOGH2yUg"
      },
      "outputs": [],
      "source": [
        ""
      ]
    },
    {
      "cell_type": "markdown",
      "source": [
        "## Función objetivo"
      ],
      "metadata": {
        "id": "DH4HzUdt5XK2"
      }
    },
    {
      "cell_type": "code",
      "source": [
        ""
      ],
      "metadata": {
        "id": "iSs1HwOw5cYV"
      },
      "execution_count": null,
      "outputs": []
    },
    {
      "cell_type": "markdown",
      "source": [
        "## Restricciones"
      ],
      "metadata": {
        "id": "1_CrFCfhALB4"
      }
    },
    {
      "cell_type": "code",
      "source": [
        ""
      ],
      "metadata": {
        "id": "JVbodspAANps"
      },
      "execution_count": null,
      "outputs": []
    },
    {
      "cell_type": "markdown",
      "source": [
        "## Optimización del problema"
      ],
      "metadata": {
        "id": "OtDmL9Y55eJy"
      }
    },
    {
      "cell_type": "code",
      "source": [
        ""
      ],
      "metadata": {
        "id": "HHDlfpqU5g6w"
      },
      "execution_count": null,
      "outputs": []
    },
    {
      "cell_type": "markdown",
      "source": [
        "# Conclusiones"
      ],
      "metadata": {
        "id": "iFFzKCVZ4QT0"
      }
    },
    {
      "cell_type": "markdown",
      "source": [
        "1. \n",
        "2. \n",
        "3. "
      ],
      "metadata": {
        "id": "50-Ww5gS4XbP"
      }
    },
    {
      "cell_type": "markdown",
      "source": [
        "# Bibliografía y Referencias\n"
      ],
      "metadata": {
        "id": "htb7D0yT4Z7V"
      }
    },
    {
      "cell_type": "markdown",
      "source": [
        "1. Heath, M. T. (2018). Scientific Computing: An Introductory Survey, Revised Second Edition. Society for Industrial and Applied Mathematics.\n",
        "2. Chong, E. K., & Zak, S. H. (2004). An introduction to optimization. John Wiley & Sons."
      ],
      "metadata": {
        "id": "r8IrM7jE4oQA"
      }
    }
  ]
}