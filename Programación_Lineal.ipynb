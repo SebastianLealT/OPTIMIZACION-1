{
  "nbformat": 4,
  "nbformat_minor": 0,
  "metadata": {
    "colab": {
      "name": "Programación Lineal.ipynb",
      "provenance": [],
      "include_colab_link": true
    },
    "kernelspec": {
      "name": "python3",
      "display_name": "Python 3"
    },
    "language_info": {
      "name": "python"
    }
  },
  "cells": [
    {
      "cell_type": "markdown",
      "metadata": {
        "id": "view-in-github",
        "colab_type": "text"
      },
      "source": [
        "<a href=\"https://colab.research.google.com/github/SebastianLealT/OPTIMIZACION-1/blob/main/Programaci%C3%B3n_Lineal.ipynb\" target=\"_parent\"><img src=\"https://colab.research.google.com/assets/colab-badge.svg\" alt=\"Open In Colab\"/></a>"
      ]
    },
    {
      "cell_type": "markdown",
      "source": [
        "# Programación Lineal: Optimizando un problema de producción de postres\n",
        "### Johan Sebastian Leal Toro\n",
        "### Universidad del Valle- Cali\n",
        "### Curso de Optimización I\n",
        "\n",
        "En este cuaderno nos centraremos en optimizar un problema usando la programación lineal, para ello importamos los siguientes paquetes:"
      ],
      "metadata": {
        "id": "zzWK_NdC3Eb9"
      }
    },
    {
      "cell_type": "code",
      "source": [
        "!pip install PuLP"
      ],
      "metadata": {
        "colab": {
          "base_uri": "https://localhost:8080/"
        },
        "id": "rKZltol-5IyX",
        "outputId": "4187bd62-faff-4a64-e976-d7c96b656d86"
      },
      "execution_count": 27,
      "outputs": [
        {
          "output_type": "stream",
          "name": "stdout",
          "text": [
            "Requirement already satisfied: PuLP in /usr/local/lib/python3.7/dist-packages (2.6.0)\n"
          ]
        }
      ]
    },
    {
      "cell_type": "code",
      "source": [
        "import numpy as np\n",
        "import matplotlib.pyplot as plt\n",
        "from scipy import optimize\n",
        "import pulp"
      ],
      "metadata": {
        "id": "bYVwg0N55BhM"
      },
      "execution_count": 28,
      "outputs": []
    },
    {
      "cell_type": "markdown",
      "source": [
        "## Problema planteado"
      ],
      "metadata": {
        "id": "byXZOS4U36v3"
      }
    },
    {
      "cell_type": "markdown",
      "source": [
        "La empresa Los Michipostres dedicada a la producción y comercialización de postres emprende lanzado cuatro sabores distintos: maracuyá, limón, tres leches y café. Para la elaboración de cada sabor se agregan ingredientes diferentes a una ***mezcla base*** compuesta por:\n",
        "\n",
        "* 2gr de Gelatina sin sabor.\n",
        "* 128gr de galletas macarenas.\n",
        "* 15g de mantequilla.\n",
        "* 60ml de leche.\n",
        "* 60ml de leche condensada.\n",
        "* 60ml de crema de leche.\n",
        "\n",
        "Ahora bien, los ingredientes usados para la elaboración de cada sabor son:\n",
        "\n",
        "**Postre de Maracuyá:**\n",
        "- 354gr de mezcla base\n",
        "- 2 maracuyás.\n",
        "- 1gr de gelatina sin sabor.\n",
        "\n",
        "**Postre de Limón:**\n",
        "- 325gr de mezcla base\n",
        "- 2 limones.\n",
        "- 40gr de chantilly.\n",
        "\n",
        "**Postre de Tres leches:**\n",
        "- 355gr de mezcla base\n",
        "- 40gr de chantilly.\n",
        "- 10gr de cobertura de leche.\n",
        "\n",
        "**Postre de Café:**\n",
        "- 377gr de mezcla base\n",
        "- 13gr de café.\n",
        "- 15gr de arequipe.\n",
        "\n",
        "Los datos anteriormente mostrados son las cantidades para la elaboración de una sola unidad y adicional a cada unidad se le agrega el costo de un envase. Seguidamente, gracias a un estudio de mercado realizado se obtuvo la siguiente infromación:\n",
        "\n",
        "1. Beneficio esperado por cada postre de los diferentes sabores:\n",
        "> * Postre de Maracuyá: 2700\n",
        "> * Postre de Limón: 2450\n",
        "> * Postre de Tres Leches: 2750\n",
        "> * Postre de Café: 2900\n",
        "\n",
        "2. Disponibilidad semanal de las materias primas:\n",
        "> * Mezcla base: 195kg\n",
        "> * Gelatina sin sabor: 870gr\n",
        "> * Chantilly: 32kg\n",
        "> * Cobertura de leche: 3kg\n",
        "> * Arequipe: 3kg\n",
        "> * Maracuyá: 450\n",
        "> * Limón: 520\n",
        "> * Café: 2kg\n",
        "> * Envases: 2000\n",
        "\n",
        "3. Demanda esperada semanalmente para cada tipo de postre:\n",
        "> * Maracuyá: 180 postres.\n",
        "> * Limón y Tres leches: 450 postres.\n",
        "> * No se tiene una demanda esperada para los postres de Café.\n",
        "\n",
        "\n",
        "La información descrita, respecto a los ingredientes usados para cada postres, se puede resumir en la siguiente tabla:"
      ],
      "metadata": {
        "id": "j6sN0mhabISB"
      }
    },
    {
      "cell_type": "markdown",
      "source": [
        "![Tabla de datos ingredientes.jpg](data:image/jpeg;base64,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)"
      ],
      "metadata": {
        "id": "pyVFClkPJgLZ"
      }
    },
    {
      "cell_type": "markdown",
      "source": [
        "La empresa ha solicitado determinar el plan semanal de producción de los diferentes tipos de postres con el objetivo de maximizar beneficios. La optimización de este problema se desarrolla a continuación."
      ],
      "metadata": {
        "id": "zUYFQ7GkJ6OW"
      }
    },
    {
      "cell_type": "markdown",
      "source": [
        "## Función objetivo"
      ],
      "metadata": {
        "id": "DH4HzUdt5XK2"
      }
    },
    {
      "cell_type": "markdown",
      "source": [
        "Dado que se quieren maximizar los beneficios, podemos defirnir nuestras variables de la siguiente manera:\n",
        "\n",
        "$x_{1}$: Cantidad semanal de postres de maracuyá.\\\n",
        "$x_{2}$: Cantidad semanal de postres de limón.\\\n",
        "$x_{3}$: Cantidad semanal de postres de tres leches.\\\n",
        "$x_{4}$: Cantidad semanal de postres de café."
      ],
      "metadata": {
        "id": "j6gcLcNqJzNO"
      }
    },
    {
      "cell_type": "code",
      "source": [
        "# Definimos la lista de los diferentes sabores de postres\n",
        "postres = ['Postre de Maracuyá', 'Postre de Limón', 'Postre de Tres Leches', 'Postre de Café']\n",
        "\n",
        "# Definimos la lista de valiables X_Ingrediente\n",
        "variables = pulp.LpVariable.dicts(\"X\",postres,0)"
      ],
      "metadata": {
        "id": "iSs1HwOw5cYV"
      },
      "execution_count": 29,
      "outputs": []
    },
    {
      "cell_type": "markdown",
      "source": [
        "De la información suministrada por el ejercicio podemos definir el siguiente diccionario para los beneficios por cada postre:"
      ],
      "metadata": {
        "id": "Vkj_49-qRQcM"
      }
    },
    {
      "cell_type": "code",
      "source": [
        "beneficios = {'Postre de Maracuyá': 2700, \n",
        "         'Postre de Limón': 2450, \n",
        "         'Postre de Tres Leches': 2750, \n",
        "         'Postre de Café': 2900}"
      ],
      "metadata": {
        "id": "8HKt2TUnRe4_"
      },
      "execution_count": 30,
      "outputs": []
    },
    {
      "cell_type": "markdown",
      "source": [
        "Definimos ahora nuestra función objetivo como la suma de los productos de los beneficios y cantidades de cada tipo de postre respectivamente, es decir, nuestra función objetivo será:\n",
        "\n",
        "$$f(x)=2700x_{1}+2450x_{2}+2750x_{3}+2900x_{4}$$\n",
        "\n",
        "Dado que esta requiere ser maximizada, es un problema equivalente minimizar $-f(x)$ y es lo que se hará en el programa."
      ],
      "metadata": {
        "id": "k9Ti1qc8SmlP"
      }
    },
    {
      "cell_type": "code",
      "source": [
        "#Definimos el problema y agregamos a este la función objetivo -f(x)\n",
        "problema = pulp.LpProblem(\"Problema_Postres\", pulp.LpMinimize)\n",
        "problema += -pulp.lpSum([beneficios[i]*variables[i] for i in postres])\n",
        "problema"
      ],
      "metadata": {
        "colab": {
          "base_uri": "https://localhost:8080/"
        },
        "id": "zgacjpVLS8iC",
        "outputId": "43cf633a-6f42-44b9-c3b6-3b227ff26ee8"
      },
      "execution_count": 31,
      "outputs": [
        {
          "output_type": "execute_result",
          "data": {
            "text/plain": [
              "Problema_Postres:\n",
              "MINIMIZE\n",
              "-2900*X_Postre_de_Café + -2450*X_Postre_de_Limón + -2700*X_Postre_de_Maracuyá + -2750*X_Postre_de_Tres_Leches + 0\n",
              "VARIABLES\n",
              "X_Postre_de_Café Continuous\n",
              "X_Postre_de_Limón Continuous\n",
              "X_Postre_de_Maracuyá Continuous\n",
              "X_Postre_de_Tres_Leches Continuous"
            ]
          },
          "metadata": {},
          "execution_count": 31
        }
      ]
    },
    {
      "cell_type": "markdown",
      "source": [
        "## Restricciones"
      ],
      "metadata": {
        "id": "1_CrFCfhALB4"
      }
    },
    {
      "cell_type": "markdown",
      "source": [
        "Del estudio de mercado realizado se obtienen las siguientes restricciones:\n",
        "1. Para la mezcla base:\n",
        "$$354x_{1}+325x_{2}+355x_{3}+377x_{4}\\leq 195000$$\n",
        "2. Para la gelatina sin sabor:\n",
        "$$x_{1}\\leq 870$$\n",
        "3. Para el chantilly:\n",
        "$$40x_{2}+40x_{3}\\leq 32000$$\n",
        "4. Para la cobertura de leche:\n",
        "$$10x_{3}\\leq 3000$$\n",
        "5. Para el arequipe:\n",
        "$$15x_{4}\\leq 3000$$\n",
        "6. Para el maracuyá:\n",
        "$$2x_{1}\\leq 450$$\n",
        "7. Para los limones:\n",
        "$$2x_{2}\\leq 520$$\n",
        "8. Para el café:\n",
        "$$13x_{4}\\leq 2000$$\n",
        "9. Para los envases:\n",
        "$$x_{1}+x_{2}+x_{3}+x_{4}\\leq 2000$$\n",
        "10. Demanda de postre de maracuyá:\n",
        "$$x_{1}\\geq 180$$\n",
        "11. Demanda de postres de limón y tres leches:\n",
        "$$x_{2}+x_{3}\\geq 450$$\n",
        "12. No negatividad:\n",
        "$$x_{1},x_{2},x_{3},x_{4}\\geq 0$$\n",
        "\n",
        "Para programar estas restricciones es necesario definir primero los diccionarios de las cantidades de cada ingrediente para cada postre, esto nos permitirá tener las listas de los coeficientes para cada restricción:"
      ],
      "metadata": {
        "id": "Lz_zCI5Roahd"
      }
    },
    {
      "cell_type": "code",
      "source": [
        "# Para la mezcla base\n",
        "mbase = {'Postre de Maracuyá': 354, \n",
        "         'Postre de Limón': 325, \n",
        "         'Postre de Tres Leches': 355, \n",
        "         'Postre de Café': 377}\n",
        "\n",
        "# Para la gelatina sin sabor\n",
        "gelatina = {'Postre de Maracuyá': 1, \n",
        "         'Postre de Limón': 0, \n",
        "         'Postre de Tres Leches': 0, \n",
        "         'Postre de Café': 0}\n",
        "\n",
        "# Para la chantilly\n",
        "chantilly = {'Postre de Maracuyá': 0, \n",
        "         'Postre de Limón': 40, \n",
        "         'Postre de Tres Leches': 40, \n",
        "         'Postre de Café': 0}\n",
        "\n",
        "# Para la cobertura de leche\n",
        "cobertura = {'Postre de Maracuyá': 0, \n",
        "         'Postre de Limón': 0, \n",
        "         'Postre de Tres Leches': 10, \n",
        "         'Postre de Café': 0}\n",
        "\n",
        "# Para el arequipe\n",
        "arequipe = {'Postre de Maracuyá': 0, \n",
        "         'Postre de Limón': 0, \n",
        "         'Postre de Tres Leches': 0, \n",
        "         'Postre de Café': 15}\n",
        "\n",
        "# Para el maracuyá\n",
        "maracuya = {'Postre de Maracuyá': 2, \n",
        "         'Postre de Limón': 0, \n",
        "         'Postre de Tres Leches': 0, \n",
        "         'Postre de Café': 0}\n",
        "\n",
        "# Para el limón\n",
        "limon = {'Postre de Maracuyá': 0, \n",
        "         'Postre de Limón': 2, \n",
        "         'Postre de Tres Leches': 0, \n",
        "         'Postre de Café': 0}\n",
        "\n",
        "# Para el café\n",
        "cafe = {'Postre de Maracuyá': 0, \n",
        "         'Postre de Limón': 0, \n",
        "         'Postre de Tres Leches': 0, \n",
        "         'Postre de Café': 13}\n",
        "\n",
        "# Para los envases\n",
        "envase = {'Postre de Maracuyá': 1, \n",
        "         'Postre de Limón': 1, \n",
        "         'Postre de Tres Leches': 1, \n",
        "         'Postre de Café': 1}\n",
        "\n",
        "# Demanda del postre de maracuyá\n",
        "dMaracuya = {'Postre de Maracuyá': 1, \n",
        "         'Postre de Limón': 0, \n",
        "         'Postre de Tres Leches': 0, \n",
        "         'Postre de Café': 0}\n",
        "\n",
        "# Demanda del postre de limón y de tres leches\n",
        "dLimon = {'Postre de Maracuyá': 0, \n",
        "         'Postre de Limón': 1, \n",
        "         'Postre de Tres Leches': 1, \n",
        "         'Postre de Café': 0}"
      ],
      "metadata": {
        "id": "JVbodspAANps"
      },
      "execution_count": 32,
      "outputs": []
    },
    {
      "cell_type": "markdown",
      "source": [
        "Habiendo definido los diccionarios, programamos cada restricción y la añadimos a nuestro problema:"
      ],
      "metadata": {
        "id": "-S3_Ck8sw71_"
      }
    },
    {
      "cell_type": "code",
      "source": [
        "problema += pulp.lpSum([mbase[i]*variables[i] for i in postres]) <= 195000, \"R_MezclaBase\"\n",
        "problema += pulp.lpSum([gelatina[i]*variables[i] for i in postres]) <= 870, \"R_Gelatina\"\n",
        "problema += pulp.lpSum([chantilly[i]*variables[i] for i in postres]) <= 32000, \"R_Chantilly\"\n",
        "problema += pulp.lpSum([cobertura[i]*variables[i] for i in postres]) <= 3000, \"R_Cobertura\"\n",
        "problema += pulp.lpSum([arequipe[i]*variables[i] for i in postres]) <= 3000, \"R_Arequipe\"\n",
        "problema += pulp.lpSum([maracuya[i]*variables[i] for i in postres]) <= 450, \"R_Maracuyá\"\n",
        "problema += pulp.lpSum([limon[i]*variables[i] for i in postres]) <= 520, \"R_Limón\"\n",
        "problema += pulp.lpSum([cafe[i]*variables[i] for i in postres]) <= 2000, \"R_Café\"\n",
        "problema += pulp.lpSum([envase[i]*variables[i] for i in postres]) <= 2000, \"R_Envase\"\n",
        "problema += pulp.lpSum([dMaracuya[i]*variables[i] for i in postres]) >= 180, \"R_DemandaMaracuya\"\n",
        "problema += pulp.lpSum([dLimon[i]*variables[i] for i in postres]) >=450, \"R_DemandaLimón_TresLeches\"\n",
        "\n",
        "#Se muestra el problema de optimización\n",
        "problema"
      ],
      "metadata": {
        "colab": {
          "base_uri": "https://localhost:8080/"
        },
        "id": "eNxOkm_zxE-f",
        "outputId": "6fd3d102-3439-49c9-9d62-dfac6659fd60"
      },
      "execution_count": 33,
      "outputs": [
        {
          "output_type": "execute_result",
          "data": {
            "text/plain": [
              "Problema_Postres:\n",
              "MINIMIZE\n",
              "-2900*X_Postre_de_Café + -2450*X_Postre_de_Limón + -2700*X_Postre_de_Maracuyá + -2750*X_Postre_de_Tres_Leches + 0\n",
              "SUBJECT TO\n",
              "R_MezclaBase: 377 X_Postre_de_Café + 325 X_Postre_de_Limón\n",
              " + 354 X_Postre_de_Maracuyá + 355 X_Postre_de_Tres_Leches <= 195000\n",
              "\n",
              "R_Gelatina: X_Postre_de_Maracuyá <= 870\n",
              "\n",
              "R_Chantilly: 40 X_Postre_de_Limón + 40 X_Postre_de_Tres_Leches <= 32000\n",
              "\n",
              "R_Cobertura: 10 X_Postre_de_Tres_Leches <= 3000\n",
              "\n",
              "R_Arequipe: 15 X_Postre_de_Café <= 3000\n",
              "\n",
              "R_Maracuyá: 2 X_Postre_de_Maracuyá <= 450\n",
              "\n",
              "R_Limón: 2 X_Postre_de_Limón <= 520\n",
              "\n",
              "R_Café: 13 X_Postre_de_Café <= 2000\n",
              "\n",
              "R_Envase: X_Postre_de_Café + X_Postre_de_Limón + X_Postre_de_Maracuyá\n",
              " + X_Postre_de_Tres_Leches <= 2000\n",
              "\n",
              "R_DemandaMaracuya: X_Postre_de_Maracuyá >= 180\n",
              "\n",
              "R_DemandaLimón_TresLeches: X_Postre_de_Limón + X_Postre_de_Tres_Leches >= 450\n",
              "\n",
              "VARIABLES\n",
              "X_Postre_de_Café Continuous\n",
              "X_Postre_de_Limón Continuous\n",
              "X_Postre_de_Maracuyá Continuous\n",
              "X_Postre_de_Tres_Leches Continuous"
            ]
          },
          "metadata": {},
          "execution_count": 33
        }
      ]
    },
    {
      "cell_type": "markdown",
      "source": [
        "## Optimización del problema"
      ],
      "metadata": {
        "id": "OtDmL9Y55eJy"
      }
    },
    {
      "cell_type": "code",
      "source": [
        "# Se resuelve el problema descrito\n",
        "problema.solve()\n",
        "\n",
        "# Imprimimos el resultado del problema optimizado:\n",
        "print('==========================================================')\n",
        "print('||               **SOLUCIÓN DEL PROBLEMA**              ||')\n",
        "print('==========================================================')\n",
        "print(\"||  El estaus final de la solución es:\", pulp.LpStatus[problema.status],'      ||')\n",
        "print(\"||  El valor de la función objetivo es:\", pulp.value(problema.objective),'     ||')\n",
        "print('==========================================================')\n",
        "print(\"||                 Reporte de variables                 ||\")\n",
        "print('==========================================================')\n",
        "for v in problema.variables():\n",
        "    print(v, \"=\", pulp.value(v))\n",
        "print('==========================================================')\n",
        "\n"
      ],
      "metadata": {
        "id": "HHDlfpqU5g6w",
        "colab": {
          "base_uri": "https://localhost:8080/"
        },
        "outputId": "b4f713eb-8cc7-42aa-c063-da3fcbf1cb07"
      },
      "execution_count": 44,
      "outputs": [
        {
          "output_type": "stream",
          "name": "stdout",
          "text": [
            "==========================================================\n",
            "||               **SOLUCIÓN DEL PROBLEMA**              ||\n",
            "==========================================================\n",
            "||  El estaus final de la solución es: Infeasible       ||\n",
            "||  El valor de la función objetivo es: -1645500.0      ||\n",
            "==========================================================\n",
            "||                 Reporte de variables                 ||\n",
            "==========================================================\n",
            "X_Postre_de_Café = 0.0\n",
            "X_Postre_de_Limón = 260.0\n",
            "X_Postre_de_Maracuyá = 180.0\n",
            "X_Postre_de_Tres_Leches = 190.0\n",
            "==========================================================\n"
          ]
        }
      ]
    },
    {
      "cell_type": "markdown",
      "source": [
        "# Resultados y Conclusiones"
      ],
      "metadata": {
        "id": "iFFzKCVZ4QT0"
      }
    },
    {
      "cell_type": "markdown",
      "source": [
        "El problema resulta ser inviable, esto se debe a que los datos obtenidos por el \"estudio de mercado\" para establecer las restricciones son tomados de una manera exagerada y sin ninguna certeza, pues el problema fue escrito de manera hipotética. En caso tal de que se realice un buen estudio de mercado el programa debería ejecutar de manera concisa el caso de optimización. Aún así el problema fue optimizado y se reportaron las variables que podrian \"maximizar\" los beneficios, en este caso generar menos pérdidas."
      ],
      "metadata": {
        "id": "50-Ww5gS4XbP"
      }
    },
    {
      "cell_type": "markdown",
      "source": [
        "# Bibliografía y Referencias\n"
      ],
      "metadata": {
        "id": "htb7D0yT4Z7V"
      }
    },
    {
      "cell_type": "markdown",
      "source": [
        "1. Heath, M. T. (2018). Scientific Computing: An Introductory Survey, Revised Second Edition. Society for Industrial and Applied Mathematics.\n",
        "2. Chong, E. K., & Zak, S. H. (2004). An introduction to optimization. John Wiley & Sons."
      ],
      "metadata": {
        "id": "r8IrM7jE4oQA"
      }
    }
  ]
}