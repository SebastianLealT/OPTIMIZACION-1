{
  "nbformat": 4,
  "nbformat_minor": 0,
  "metadata": {
    "colab": {
      "name": "Optimización en varias variables.ipynb",
      "provenance": [],
      "authorship_tag": "ABX9TyPR9IBjYCkUwEnJkAix2r4P",
      "include_colab_link": true
    },
    "kernelspec": {
      "name": "python3",
      "display_name": "Python 3"
    },
    "language_info": {
      "name": "python"
    }
  },
  "cells": [
    {
      "cell_type": "markdown",
      "metadata": {
        "id": "view-in-github",
        "colab_type": "text"
      },
      "source": [
        "<a href=\"https://colab.research.google.com/github/SebastianLealT/OPTIMIZACION-1/blob/main/Optimizaci%C3%B3n_en_varias_variables.ipynb\" target=\"_parent\"><img src=\"https://colab.research.google.com/assets/colab-badge.svg\" alt=\"Open In Colab\"/></a>"
      ]
    },
    {
      "cell_type": "markdown",
      "source": [
        "#*Métodos de optimización: Funciones de varias variables*\n",
        "##Johan Sebastian Leal Toro\n",
        "##Curso de Optimización I\n",
        "##Universidad del Valle, Cali\n",
        "\n",
        "En este cuaderno nos centraremos en estudiar los siguientes métodos:\n",
        "1. Método de Nelder-Mead\n",
        "2. \n",
        "3. \n",
        "4. \n"
      ],
      "metadata": {
        "id": "QTFUq9eWHD7m"
      }
    },
    {
      "cell_type": "code",
      "execution_count": null,
      "metadata": {
        "id": "WXBF49G2BrmN"
      },
      "outputs": [],
      "source": [
        ""
      ]
    }
  ]
}