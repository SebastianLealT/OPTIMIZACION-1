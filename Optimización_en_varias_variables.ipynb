{
  "nbformat": 4,
  "nbformat_minor": 0,
  "metadata": {
    "colab": {
      "name": "Optimización en varias variables.ipynb",
      "provenance": [],
      "authorship_tag": "ABX9TyNM7TiyK0WBfRK46OrsuTu8",
      "include_colab_link": true
    },
    "kernelspec": {
      "name": "python3",
      "display_name": "Python 3"
    },
    "language_info": {
      "name": "python"
    }
  },
  "cells": [
    {
      "cell_type": "markdown",
      "metadata": {
        "id": "view-in-github",
        "colab_type": "text"
      },
      "source": [
        "<a href=\"https://colab.research.google.com/github/SebastianLealT/OPTIMIZACION-1/blob/main/Optimizaci%C3%B3n_en_varias_variables.ipynb\" target=\"_parent\"><img src=\"https://colab.research.google.com/assets/colab-badge.svg\" alt=\"Open In Colab\"/></a>"
      ]
    },
    {
      "cell_type": "markdown",
      "source": [
        "#*Métodos de optimización: Funciones de varias variables*\n",
        "##Johan Sebastian Leal Toro\n",
        "##Curso de Optimización I\n",
        "##Universidad del Valle, Cali\n",
        "\n",
        "En este cuaderno nos centraremos en estudiar los siguientes métodos para el cálculo de mínimos de funciones multivariables:\n",
        "1. Método de Nelder-Mead\n",
        "2. \n",
        "3. \n",
        "4. Método de\n",
        "\n",
        "Para ello Importamos los siguientes paquetes:"
      ],
      "metadata": {
        "id": "QTFUq9eWHD7m"
      }
    },
    {
      "cell_type": "code",
      "source": [
        "import numpy as np\n",
        "import matplotlib.pyplot as plt\n",
        "from scipy import optimize"
      ],
      "metadata": {
        "id": "yqJTztcdMupE"
      },
      "execution_count": 1,
      "outputs": []
    },
    {
      "cell_type": "markdown",
      "source": [
        "##Función a evaluar y algunos cálculos manuales\n",
        "\n",
        "Definimos la función multivariable con la que se quiere trabajar, en este caso será:\n",
        "$$f(x,y)=[1+(x+y+1)^{2}(19-14x+3x^{2}-14y+6xy+3y^{2})][30+(2x-3y)^{2}(18-32x+12x^{2}+48y-36xy+27y^{2})]$$\n",
        "la cual es conocida como *Goldstein-Price Function*."
      ],
      "metadata": {
        "id": "eN-9KisuPXeH"
      }
    },
    {
      "cell_type": "code",
      "source": [
        ""
      ],
      "metadata": {
        "id": "2X8AnUAsPX2_"
      },
      "execution_count": null,
      "outputs": []
    },
    {
      "cell_type": "markdown",
      "source": [
        "##Método de Nelder-Mead"
      ],
      "metadata": {
        "id": "mcsNeF7RPYC_"
      }
    },
    {
      "cell_type": "code",
      "source": [
        ""
      ],
      "metadata": {
        "id": "qZxNrXj9PYMu"
      },
      "execution_count": null,
      "outputs": []
    },
    {
      "cell_type": "markdown",
      "source": [
        "##Método 2"
      ],
      "metadata": {
        "id": "S_GGsT6hPYYO"
      }
    },
    {
      "cell_type": "code",
      "source": [
        ""
      ],
      "metadata": {
        "id": "ElZbenLCPYim"
      },
      "execution_count": null,
      "outputs": []
    },
    {
      "cell_type": "markdown",
      "source": [
        "##Método 3"
      ],
      "metadata": {
        "id": "FvwWU6-ePYuQ"
      }
    },
    {
      "cell_type": "code",
      "source": [
        ""
      ],
      "metadata": {
        "id": "6XprEleaPY43"
      },
      "execution_count": null,
      "outputs": []
    },
    {
      "cell_type": "markdown",
      "source": [
        "##Método 4"
      ],
      "metadata": {
        "id": "CN1x_cWNPrpN"
      }
    },
    {
      "cell_type": "code",
      "execution_count": null,
      "metadata": {
        "id": "WXBF49G2BrmN"
      },
      "outputs": [],
      "source": [
        ""
      ]
    },
    {
      "cell_type": "markdown",
      "source": [
        "##Errores"
      ],
      "metadata": {
        "id": "SIAOJF5wPuCV"
      }
    },
    {
      "cell_type": "code",
      "source": [
        ""
      ],
      "metadata": {
        "id": "M5Fg5n96PtcG"
      },
      "execution_count": null,
      "outputs": []
    },
    {
      "cell_type": "markdown",
      "source": [
        "##Conclusiones"
      ],
      "metadata": {
        "id": "ra7XIsEWPy8l"
      }
    },
    {
      "cell_type": "markdown",
      "source": [
        "1. \n",
        "2. \n",
        "3. "
      ],
      "metadata": {
        "id": "KVsGyPDGP5kV"
      }
    },
    {
      "cell_type": "markdown",
      "source": [
        "##Referencias"
      ],
      "metadata": {
        "id": "bREN1f-iP8o1"
      }
    },
    {
      "cell_type": "markdown",
      "source": [
        "1. Heath, M. T. (2018). Scientific Computing: An Introductory Survey, Revised Second Edition. Society for Industrial and Applied Mathematics.\n",
        "2. Chong, E. K., & Zak, S. H. (2004). An introduction to optimization. John Wiley & Sons."
      ],
      "metadata": {
        "id": "t6FNH4nkP_Sm"
      }
    }
  ]
}