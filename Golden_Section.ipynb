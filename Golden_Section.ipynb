{
  "nbformat": 4,
  "nbformat_minor": 5,
  "metadata": {
    "kernelspec": {
      "display_name": "Python 3",
      "language": "python",
      "name": "python3"
    },
    "language_info": {
      "codemirror_mode": {
        "name": "ipython",
        "version": 3
      },
      "file_extension": ".py",
      "mimetype": "text/x-python",
      "name": "python",
      "nbconvert_exporter": "python",
      "pygments_lexer": "ipython3",
      "version": "3.8.8"
    },
    "colab": {
      "name": "Golden Section.ipynb",
      "provenance": [],
      "collapsed_sections": [
        "ue-QZ9H1Q0ep",
        "379c7e9d"
      ]
    }
  },
  "cells": [
    {
      "cell_type": "markdown",
      "metadata": {
        "id": "2fd5cdaf"
      },
      "source": [
        "# *Método de la Golden Section y método de Brent*\n",
        "### Johan Sebastian Leal Toro\n",
        "### Universidad del Valle, Cali\n",
        "\n",
        "El método de la sección dorada permite encontrar el mínimo de una función unimodal mediante reducciones sucesivas del rango en el cual se encuentra este valor. Su nombre se le atribuye debido a que el algoritmo mantiene los valores de la función en tríos de puntos cuyas distancias forman una *proporción dorada*. Por otro lado el método de Brent realiza una interpolación con tres puntos no colineales de la función dada para obtener una aproximación a esta por medio de una parábola.\n",
        "\n",
        "Haciendo uso de la librería de scipy.optimize se realiza el siguiente programa que ejecuta los métodos mencionados."
      ],
      "id": "2fd5cdaf"
    },
    {
      "cell_type": "markdown",
      "metadata": {
        "id": "ue-QZ9H1Q0ep"
      },
      "source": [
        "## Librerías importadas y Funciones"
      ],
      "id": "ue-QZ9H1Q0ep"
    },
    {
      "cell_type": "code",
      "metadata": {
        "id": "67453f6b"
      },
      "source": [
        "#Importamos los paquetes para realizar el programa\n",
        "import numpy as np\n",
        "import matplotlib.pyplot as plt\n",
        "from scipy import optimize\n",
        "from tabulate import tabulate"
      ],
      "id": "67453f6b",
      "execution_count": null,
      "outputs": []
    },
    {
      "cell_type": "markdown",
      "metadata": {
        "id": "c0cce339"
      },
      "source": [
        "Seguidamente debemos definir un arreglo de puntos equidistantes en un intervalo dado, llamamos $x$ a este arreglo de puntos. Definimos también un par de funciones con las que se quiera trabajar, para este caso en específico tomaremos las siguientes funciones:\n",
        "$$f(x)=x^2$$\n",
        "$$g(x)=(x-x_{0})^{2}+\\frac{1}{e^{5(x+0,7-x_{0})^{2}}}$$\n",
        "donde $x_{0}=\\frac{1}{e}$."
      ],
      "id": "c0cce339"
    },
    {
      "cell_type": "code",
      "metadata": {
        "id": "84f9d4e0"
      },
      "source": [
        "x = np.linspace(-1, 1, 100)\n",
        "x0 = np.exp(-1)\n",
        "\n",
        "def f(x):\n",
        "    return (x)**2\n",
        "\n",
        "def g(x):\n",
        "    return (x-x0)**2 + np.exp(-5*(x +0.7 - x0)**2)"
      ],
      "id": "84f9d4e0",
      "execution_count": null,
      "outputs": []
    },
    {
      "cell_type": "code",
      "metadata": {
        "collapsed": true,
        "id": "47a8d375",
        "colab": {
          "base_uri": "https://localhost:8080/"
        },
        "outputId": "bdb22ade-9cda-4c4a-a52f-d25bfbf2bde8"
      },
      "source": [
        "#Gráfica de la función f(x)\n",
        "plt.plot(x, f(x))"
      ],
      "id": "47a8d375",
      "execution_count": null,
      "outputs": [
        {
          "output_type": "execute_result",
          "data": {
            "text/plain": [
              "[<matplotlib.lines.Line2D at 0x7f92e9f48310>]"
            ]
          },
          "metadata": {},
          "execution_count": 4
        },
        {
          "output_type": "display_data",
          "data": {
            "image/png": "[encoded data removed]",
            "text/plain": [
              "<Figure size 432x288 with 1 Axes>"
            ]
          },
          "metadata": {
            "needs_background": "light"
          }
        }
      ]
    },
    {
      "cell_type": "code",
      "metadata": {
        "collapsed": true,
        "id": "45a8afbf",
        "colab": {
          "base_uri": "https://localhost:8080/"
        },
        "outputId": "9a171e67-7b66-4bd7-a9a6-b4060332293d"
      },
      "source": [
        "#Gráfica de la función g(x)\n",
        "plt.plot(x, g(x))"
      ],
      "id": "45a8afbf",
      "execution_count": null,
      "outputs": [
        {
          "output_type": "execute_result",
          "data": {
            "text/plain": [
              "[<matplotlib.lines.Line2D at 0x7f92e9a26fd0>]"
            ]
          },
          "metadata": {},
          "execution_count": 5
        },
        {
          "output_type": "display_data",
          "data": {
            "image/png": "[encoded data removed]",
            "text/plain": [
              "<Figure size 432x288 with 1 Axes>"
            ]
          },
          "metadata": {
            "needs_background": "light"
          }
        }
      ]
    },
    {
      "cell_type": "markdown",
      "metadata": {
        "id": "379c7e9d"
      },
      "source": [
        "## Aplicación de los métodos\n",
        "\n",
        "Aplicando entonces el comando optimize.minimize_scalar podemos hallar e imprimir el resultado del método aplicado que será mostrado en el siguiente orden:\n",
        "1. (fun) corresponde al valor de la función evaluada en el punto mínimo hallado.\n",
        "2. (nfev) corresponde al número de evaluaciones en la función que realizó el optimizador.\n",
        "3. (nit) corresponde al número de iteraciones realizadas.\n",
        "4. (success) indica si el procedimiento llegó con éxito o no al mínimo de la función en el intervalo dado.\n",
        "5. (x) es el correspondiente a la coordenada horizontal del punto mínimo de la función. "
      ],
      "id": "379c7e9d"
    },
    {
      "cell_type": "code",
      "metadata": {
        "collapsed": true,
        "id": "41f123b0",
        "colab": {
          "base_uri": "https://localhost:8080/"
        },
        "outputId": "dc5f103e-deb1-4a44-e3ed-087c9f51b412"
      },
      "source": [
        "#Método de Golden Section\n",
        "resultado1 = optimize.minimize_scalar(g, (-1, 1), method='golden')\n",
        "resultado1"
      ],
      "id": "41f123b0",
      "execution_count": null,
      "outputs": [
        {
          "output_type": "execute_result",
          "data": {
            "text/plain": [
              "     fun: 0.04881756741099316\n",
              "    nfev: 46\n",
              "     nit: 41\n",
              " success: True\n",
              "       x: 0.49915535877361183"
            ]
          },
          "metadata": {},
          "execution_count": 6
        }
      ]
    },
    {
      "cell_type": "code",
      "metadata": {
        "colab": {
          "base_uri": "https://localhost:8080/"
        },
        "id": "KETcbx5Qau0l",
        "outputId": "107acd53-b59e-4846-db4b-face5bf55e66"
      },
      "source": [
        "#Método de Brent\n",
        "resultado2 = optimize.minimize_scalar(g, (-1, 1), method='brent')\n",
        "resultado2"
      ],
      "id": "KETcbx5Qau0l",
      "execution_count": null,
      "outputs": [
        {
          "output_type": "execute_result",
          "data": {
            "text/plain": [
              "     fun: 0.048817567410993135\n",
              "    nfev: 15\n",
              "     nit: 11\n",
              " success: True\n",
              "       x: 0.4991553654010445"
            ]
          },
          "metadata": {},
          "execution_count": 7
        }
      ]
    },
    {
      "cell_type": "markdown",
      "metadata": {
        "id": "a4ed3c8e"
      },
      "source": [
        "## Iteraciones\n",
        "\n",
        "En caso de necesitar el resultado para un número de iteraciones fijas (iter= valor fijo) podemos añadir esta condición agregando el comando options={\"maxiter\": iter} dentro del comando optimize. Si lo que necesitamos es conocer el resultado para cada una de las iteraciones realizadas hasta la cantidad determinada podemos usar el comando *for* como se muestra a continuación:"
      ],
      "id": "a4ed3c8e"
    },
    {
      "cell_type": "code",
      "metadata": {
        "collapsed": true,
        "id": "7c3c41ca",
        "colab": {
          "base_uri": "https://localhost:8080/"
        },
        "outputId": "97cc926d-0d10-4f3e-db32-00a257687e5d"
      },
      "source": [
        "#Método de Golden Section\n",
        "for iter in range(1,42):\n",
        "    res1 = optimize.minimize_scalar(g, (-1, 1), method='golden', options={\"maxiter\": iter})\n",
        "    print ('iteración', iter, ': x=', res1.x, '; f(x)=', res1.fun)"
      ],
      "id": "7c3c41ca",
      "execution_count": null,
      "outputs": [
        {
          "output_type": "stream",
          "name": "stdout",
          "text": [
            "iteración 1 : x= 0.23606798000000007 ; f(x)= 0.21642588381010175\n",
            "iteración 2 : x= 0.23606798000000007 ; f(x)= 0.21642588381010175\n",
            "iteración 3 : x= 0.5278640455906403 ; f(x)= 0.05037137683993256\n",
            "iteración 4 : x= 0.5278640455906403 ; f(x)= 0.05037137683993256\n",
            "iteración 5 : x= 0.5278640455906403 ; f(x)= 0.05037137683993256\n",
            "iteración 6 : x= 0.5278640455906403 ; f(x)= 0.05037137683993256\n",
            "iteración 7 : x= 0.4852915736435517 ; f(x)= 0.04919376904171288\n",
            "iteración 8 : x= 0.4852915736435517 ; f(x)= 0.04919376904171288\n",
            "iteración 9 : x= 0.501552810889018 ; f(x)= 0.048828656254796265\n",
            "iteración 10 : x= 0.501552810889018 ; f(x)= 0.048828656254796265\n",
            "iteración 11 : x= 0.501552810889018 ; f(x)= 0.048828656254796265\n",
            "iteración 12 : x= 0.501552810889018 ; f(x)= 0.048828656254796265\n",
            "iteración 13 : x= 0.49918032836408655 ; f(x)= 0.048817568615859855\n",
            "iteración 14 : x= 0.49918032836408655 ; f(x)= 0.048817568615859855\n",
            "iteración 15 : x= 0.49918032836408655 ; f(x)= 0.048817568615859855\n",
            "iteración 16 : x= 0.49918032836408655 ; f(x)= 0.048817568615859855\n",
            "iteración 17 : x= 0.49918032836408655 ; f(x)= 0.048817568615859855\n",
            "iteración 18 : x= 0.49918032836408655 ; f(x)= 0.048817568615859855\n",
            "iteración 19 : x= 0.49918032836408655 ; f(x)= 0.048817568615859855\n",
            "iteración 20 : x= 0.49918032836408655 ; f(x)= 0.048817568615859855\n",
            "iteración 21 : x= 0.49918032836408655 ; f(x)= 0.048817568615859855\n",
            "iteración 22 : x= 0.49914911689181707 ; f(x)= 0.04881756748644607\n",
            "iteración 23 : x= 0.49914911689181707 ; f(x)= 0.04881756748644607\n",
            "iteración 24 : x= 0.49916103861334604 ; f(x)= 0.04881756747324792\n",
            "iteración 25 : x= 0.49916103861334604 ; f(x)= 0.04881756747324792\n",
            "iteración 26 : x= 0.49915648492094133 ; f(x)= 0.04881756741342213\n",
            "iteración 27 : x= 0.49915648492094133 ; f(x)= 0.04881756741342213\n",
            "iteración 28 : x= 0.49915648492094133 ; f(x)= 0.04881756741342213\n",
            "iteración 29 : x= 0.4991554099399865 ; f(x)= 0.04881756741099718\n",
            "iteración 30 : x= 0.4991554099399865 ; f(x)= 0.04881756741099718\n",
            "iteración 31 : x= 0.4991554099399865 ; f(x)= 0.04881756741099718\n",
            "iteración 32 : x= 0.4991554099399865 ; f(x)= 0.04881756741099718\n",
            "iteración 33 : x= 0.4991554099399865 ; f(x)= 0.04881756741099718\n",
            "iteración 34 : x= 0.4991554099399865 ; f(x)= 0.04881756741099718\n",
            "iteración 35 : x= 0.4991554099399865 ; f(x)= 0.04881756741099718\n",
            "iteración 36 : x= 0.49915537291564993 ; f(x)= 0.0488175674109933\n",
            "iteración 37 : x= 0.49915537291564993 ; f(x)= 0.0488175674109933\n",
            "iteración 38 : x= 0.49915537291564993 ; f(x)= 0.0488175674109933\n",
            "iteración 39 : x= 0.49915536417538975 ; f(x)= 0.04881756741099318\n",
            "iteración 40 : x= 0.49915535877361183 ; f(x)= 0.04881756741099316\n",
            "iteración 41 : x= 0.49915535877361183 ; f(x)= 0.04881756741099316\n"
          ]
        }
      ]
    },
    {
      "cell_type": "code",
      "metadata": {
        "colab": {
          "base_uri": "https://localhost:8080/"
        },
        "id": "pT1b6w-mbQ8d",
        "outputId": "759a5e3d-41b6-42a2-cc9d-57ff4455c770"
      },
      "source": [
        "#Método de Brent\n",
        "for iter in range(1,11):\n",
        "    res2 = optimize.minimize_scalar(g, (-1, 1), method='brent', options={\"maxiter\": iter})\n",
        "    print ('iteración', iter, ': x=', res2.x, '; f(x)=', res2.fun)"
      ],
      "id": "pT1b6w-mbQ8d",
      "execution_count": null,
      "outputs": [
        {
          "output_type": "stream",
          "name": "stdout",
          "text": [
            "iteración 1 : x= 1 ; f(x)= 0.3997165608957614\n",
            "iteración 2 : x= 0.23606799999999994 ; f(x)= 0.21642585591787467\n",
            "iteración 3 : x= 0.5118824440726993 ; f(x)= 0.04912723289394744\n",
            "iteración 4 : x= 0.5118824440726993 ; f(x)= 0.04912723289394744\n",
            "iteración 5 : x= 0.5053857996711214 ; f(x)= 0.04889220462730008\n",
            "iteración 6 : x= 0.4986987103887645 ; f(x)= 0.04881797073919192\n",
            "iteración 7 : x= 0.49912402981647364 ; f(x)= 0.048817569309268616\n",
            "iteración 8 : x= 0.4991567043312817 ; f(x)= 0.048817567414466134\n",
            "iteración 9 : x= 0.4991553580035452 ; f(x)= 0.0488175674109932\n",
            "iteración 10 : x= 0.4991553654010445 ; f(x)= 0.048817567410993135\n"
          ]
        }
      ]
    },
    {
      "cell_type": "markdown",
      "metadata": {
        "id": "62cd975c"
      },
      "source": [
        "En caso de no conocer el número de iteraciones necesarias podemos fácilmente realizar el mismo procedimiento utilizando el comando *While* hasta que la aplicación del comando optimize resulte verdadera (success = True). Realizaremos este procedimiento y crearemos las listas de puntos, $X1$ y $X2$, con los resultados de cada iteración para luego realizar ciertas gráficas que nos permitirán analizar la convergencia del método empleado.\n",
        "\n",
        "Iniciemos aplicando el método de Golden Section para la lista $X1$:"
      ],
      "id": "62cd975c"
    },
    {
      "cell_type": "code",
      "metadata": {
        "id": "3db6ec8c"
      },
      "source": [
        "res1.success=False\n",
        "iter = 1\n",
        "X1=[]\n",
        "while res1.success == False:\n",
        "    res1 = optimize.minimize_scalar(g, (-1,1), method='golden', options={\"maxiter\": iter})\n",
        "    X1.append(res1.x)\n",
        "    iter +=1"
      ],
      "id": "3db6ec8c",
      "execution_count": null,
      "outputs": []
    },
    {
      "cell_type": "code",
      "metadata": {
        "collapsed": true,
        "id": "d9dbafb8",
        "colab": {
          "base_uri": "https://localhost:8080/",
          "height": 282
        },
        "outputId": "36aa5f9e-da8e-41af-9488-39ef5e784e1b"
      },
      "source": [
        "#Gráfica para los puntos en X1\n",
        "plt.plot(X1)"
      ],
      "id": "d9dbafb8",
      "execution_count": null,
      "outputs": [
        {
          "output_type": "execute_result",
          "data": {
            "text/plain": [
              "[<matplotlib.lines.Line2D at 0x7f92e99c2e10>]"
            ]
          },
          "metadata": {},
          "execution_count": 11
        },
        {
          "output_type": "display_data",
          "data": {
            "image/png": "[encoded data removed]",
            "text/plain": [
              "<Figure size 432x288 with 1 Axes>"
            ]
          },
          "metadata": {
            "needs_background": "light"
          }
        }
      ]
    },
    {
      "cell_type": "code",
      "metadata": {
        "collapsed": true,
        "id": "ca230bee",
        "colab": {
          "base_uri": "https://localhost:8080/",
          "height": 282
        },
        "outputId": "a48b641c-87aa-444b-84d3-d647cf8b13de"
      },
      "source": [
        "#Gráfica para f(X1)\n",
        "plt.plot(g(np.array(X1)))"
      ],
      "id": "ca230bee",
      "execution_count": null,
      "outputs": [
        {
          "output_type": "execute_result",
          "data": {
            "text/plain": [
              "[<matplotlib.lines.Line2D at 0x7f92e99350d0>]"
            ]
          },
          "metadata": {},
          "execution_count": 12
        },
        {
          "output_type": "display_data",
          "data": {
            "image/png": "[encoded data removed]",
            "text/plain": [
              "<Figure size 432x288 with 1 Axes>"
            ]
          },
          "metadata": {
            "needs_background": "light"
          }
        }
      ]
    },
    {
      "cell_type": "markdown",
      "metadata": {
        "id": "hS12r9rKc2Gd"
      },
      "source": [
        "Apliquemos ahora el método de Brent para la lista $X2$:"
      ],
      "id": "hS12r9rKc2Gd"
    },
    {
      "cell_type": "code",
      "metadata": {
        "id": "1nxBZjS7c9St"
      },
      "source": [
        "res2.success=False\n",
        "iter = 1\n",
        "X2=[]\n",
        "while res2.success == False:\n",
        "    res2 = optimize.minimize_scalar(g, (-1,1), method='brent', options={\"maxiter\": iter})\n",
        "    X2.append(res2.x)\n",
        "    iter +=1"
      ],
      "id": "1nxBZjS7c9St",
      "execution_count": null,
      "outputs": []
    },
    {
      "cell_type": "code",
      "metadata": {
        "colab": {
          "base_uri": "https://localhost:8080/",
          "height": 282
        },
        "id": "LPvrhjBPdTJN",
        "outputId": "0cd862b8-855e-4417-f313-8bc455cc283f"
      },
      "source": [
        "#Gráfica para los puntos en X2\n",
        "plt.plot(X2)"
      ],
      "id": "LPvrhjBPdTJN",
      "execution_count": null,
      "outputs": [
        {
          "output_type": "execute_result",
          "data": {
            "text/plain": [
              "[<matplotlib.lines.Line2D at 0x7f92e9895b50>]"
            ]
          },
          "metadata": {},
          "execution_count": 14
        },
        {
          "output_type": "display_data",
          "data": {
            "image/png": "[encoded data removed]",
            "text/plain": [
              "<Figure size 432x288 with 1 Axes>"
            ]
          },
          "metadata": {
            "needs_background": "light"
          }
        }
      ]
    },
    {
      "cell_type": "code",
      "metadata": {
        "colab": {
          "base_uri": "https://localhost:8080/",
          "height": 282
        },
        "id": "0tm2VqnKdjsN",
        "outputId": "f11fd60c-075d-4404-ba0a-84a0efe3c6ce"
      },
      "source": [
        "#Gráfica para f(X2)\n",
        "plt.plot(g(np.array(X2)))"
      ],
      "id": "0tm2VqnKdjsN",
      "execution_count": null,
      "outputs": [
        {
          "output_type": "execute_result",
          "data": {
            "text/plain": [
              "[<matplotlib.lines.Line2D at 0x7f92e9889a50>]"
            ]
          },
          "metadata": {},
          "execution_count": 15
        },
        {
          "output_type": "display_data",
          "data": {
            "image/png": "[encoded data removed]",
            "text/plain": [
              "<Figure size 432x288 with 1 Axes>"
            ]
          },
          "metadata": {
            "needs_background": "light"
          }
        }
      ]
    },
    {
      "cell_type": "markdown",
      "metadata": {
        "id": "bdbbd801"
      },
      "source": [
        "## Error\n",
        "\n",
        "De los arreglos para $X1$ y $X2$ realizados anteriormente vamos a tomar el último valor en la lista de cada uno el cual corresponde al valor teórico del mínimo de la función y calculamos el error para cada uno de los valores en las listas correspondientes con la fórmula\n",
        "$$Error=\\frac{\\mid X-X_{teórico} \\mid}{X_{teórico}}$$\n",
        "esto da como resultado una lista de puntos que denotan la velocidad de convergencia de cada método empleado."
      ],
      "id": "bdbbd801"
    },
    {
      "cell_type": "markdown",
      "metadata": {
        "id": "I6V4s6BweSKP"
      },
      "source": [
        "Realizamos primeramente los cálculos para el método de la Golden Section con la lista $X1$:"
      ],
      "id": "I6V4s6BweSKP"
    },
    {
      "cell_type": "code",
      "metadata": {
        "collapsed": true,
        "id": "9ecf2fa3",
        "colab": {
          "base_uri": "https://localhost:8080/"
        },
        "outputId": "ad655ee0-d37c-4d45-cfd1-2487d137c6e5"
      },
      "source": [
        "Error1 = abs(np.array(X1)-X1[-1])/abs(X1[-1])\n",
        "Error1"
      ],
      "id": "9ecf2fa3",
      "execution_count": null,
      "outputs": [
        {
          "output_type": "execute_result",
          "data": {
            "text/plain": [
              "array([5.27065119e-01, 5.27065119e-01, 5.75145319e-02, 5.75145319e-02,\n",
              "       5.75145319e-02, 5.75145319e-02, 2.77744892e-02, 2.77744892e-02,\n",
              "       4.80301788e-03, 4.80301788e-03, 4.80301788e-03, 4.80301788e-03,\n",
              "       5.00236851e-05, 5.00236851e-05, 5.00236851e-05, 5.00236851e-05,\n",
              "       5.00236851e-05, 5.00236851e-05, 5.00236851e-05, 5.00236851e-05,\n",
              "       5.00236851e-05, 1.25048879e-05, 1.25048879e-05, 1.13789016e-05,\n",
              "       1.13789016e-05, 2.25610586e-06, 2.25610586e-06, 2.25610586e-06,\n",
              "       1.02505911e-07, 1.02505911e-07, 1.02505911e-07, 1.02505911e-07,\n",
              "       1.02505911e-07, 1.02505911e-07, 1.02505911e-07, 2.83319368e-08,\n",
              "       2.83319368e-08, 2.83319368e-08, 1.08218370e-08, 0.00000000e+00,\n",
              "       0.00000000e+00, 0.00000000e+00])"
            ]
          },
          "metadata": {},
          "execution_count": 16
        }
      ]
    },
    {
      "cell_type": "code",
      "metadata": {
        "collapsed": true,
        "id": "375d24d6",
        "colab": {
          "base_uri": "https://localhost:8080/",
          "height": 282
        },
        "outputId": "9d2a39f4-7739-473e-cf79-609a60635d94"
      },
      "source": [
        "#Gráfica del error Golden Section\n",
        "plt.plot(Error1)"
      ],
      "id": "375d24d6",
      "execution_count": null,
      "outputs": [
        {
          "output_type": "execute_result",
          "data": {
            "text/plain": [
              "[<matplotlib.lines.Line2D at 0x7f92e984f0d0>]"
            ]
          },
          "metadata": {},
          "execution_count": 17
        },
        {
          "output_type": "display_data",
          "data": {
            "image/png": "[encoded data removed]",
            "text/plain": [
              "<Figure size 432x288 with 1 Axes>"
            ]
          },
          "metadata": {
            "needs_background": "light"
          }
        }
      ]
    },
    {
      "cell_type": "markdown",
      "metadata": {
        "id": "oJj09sg3fcTV"
      },
      "source": [
        "Seguidamente realizamos los mismos cálculos para el método de Brent con la lista $X2$:"
      ],
      "id": "oJj09sg3fcTV"
    },
    {
      "cell_type": "code",
      "metadata": {
        "colab": {
          "base_uri": "https://localhost:8080/"
        },
        "id": "vj6oqcDAfmE3",
        "outputId": "4ffcfc08-9c04-41eb-d099-c4a2f052a800"
      },
      "source": [
        "Error2 = abs(np.array(X2)-X2[-1])/abs(X2[-1])\n",
        "Error2"
      ],
      "id": "vj6oqcDAfmE3",
      "execution_count": null,
      "outputs": [
        {
          "output_type": "execute_result",
          "data": {
            "text/plain": [
              "array([1.00338426e+00, 5.27065086e-01, 2.54972290e-02, 2.54972290e-02,\n",
              "       1.24819539e-02, 9.14855462e-04, 6.27772168e-05, 2.68239176e-06,\n",
              "       1.48200336e-08, 0.00000000e+00, 0.00000000e+00, 0.00000000e+00])"
            ]
          },
          "metadata": {},
          "execution_count": 18
        }
      ]
    },
    {
      "cell_type": "code",
      "metadata": {
        "colab": {
          "base_uri": "https://localhost:8080/",
          "height": 282
        },
        "id": "lT8Fl8Abf4X-",
        "outputId": "7f6295b3-0376-4b88-ecd6-edfc9a782ab4"
      },
      "source": [
        "#Gráfica del error Brent\n",
        "plt.plot(Error2)"
      ],
      "id": "lT8Fl8Abf4X-",
      "execution_count": null,
      "outputs": [
        {
          "output_type": "execute_result",
          "data": {
            "text/plain": [
              "[<matplotlib.lines.Line2D at 0x7f92e97cba10>]"
            ]
          },
          "metadata": {},
          "execution_count": 19
        },
        {
          "output_type": "display_data",
          "data": {
            "image/png": "[encoded data removed]",
            "text/plain": [
              "<Figure size 432x288 with 1 Axes>"
            ]
          },
          "metadata": {
            "needs_background": "light"
          }
        }
      ]
    },
    {
      "cell_type": "markdown",
      "metadata": {
        "id": "ifQmS0byP8yA"
      },
      "source": [
        "## Tabla de Datos\n",
        "\n",
        "Creamos ahora una tabla que nos resuma los datos obtenidos, es decir, los valores de $x$, $f(x)$ y el error para cada iteración realizada. Para ello creamos un diccionario y seguidamente hacemos uso del comando tabulate. Se debe tener en cuenta que los datos en la tabla se escriben de manera muy aproximada."
      ],
      "id": "ifQmS0byP8yA"
    },
    {
      "cell_type": "code",
      "metadata": {
        "colab": {
          "base_uri": "https://localhost:8080/"
        },
        "id": "H84pwWtrO--4",
        "outputId": "f5101a1d-e98d-4d1a-b605-7c2dd34b6545"
      },
      "source": [
        "#Tabla de Datos Golden Section\n",
        "Datos1 = {'Iteración': list(range(1, len(Error1)+1)), 'x': X1 , 'g(x)': g(np.array(X1)), 'Error': Error1}\n",
        "print(tabulate(Datos1, headers='keys', tablefmt='fancy_grid'))"
      ],
      "id": "H84pwWtrO--4",
      "execution_count": null,
      "outputs": [
        {
          "output_type": "stream",
          "name": "stdout",
          "text": [
            "╒═════════════╤══════════╤═══════════╤═════════════╕\n",
            "│   Iteración │        x │      g(x) │       Error │\n",
            "╞═════════════╪══════════╪═══════════╪═════════════╡\n",
            "│           1 │ 0.236068 │ 0.216426  │ 0.527065    │\n",
            "├─────────────┼──────────┼───────────┼─────────────┤\n",
            "│           2 │ 0.236068 │ 0.216426  │ 0.527065    │\n",
            "├─────────────┼──────────┼───────────┼─────────────┤\n",
            "│           3 │ 0.527864 │ 0.0503714 │ 0.0575145   │\n",
            "├─────────────┼──────────┼───────────┼─────────────┤\n",
            "│           4 │ 0.527864 │ 0.0503714 │ 0.0575145   │\n",
            "├─────────────┼──────────┼───────────┼─────────────┤\n",
            "│           5 │ 0.527864 │ 0.0503714 │ 0.0575145   │\n",
            "├─────────────┼──────────┼───────────┼─────────────┤\n",
            "│           6 │ 0.527864 │ 0.0503714 │ 0.0575145   │\n",
            "├─────────────┼──────────┼───────────┼─────────────┤\n",
            "│           7 │ 0.485292 │ 0.0491938 │ 0.0277745   │\n",
            "├─────────────┼──────────┼───────────┼─────────────┤\n",
            "│           8 │ 0.485292 │ 0.0491938 │ 0.0277745   │\n",
            "├─────────────┼──────────┼───────────┼─────────────┤\n",
            "│           9 │ 0.501553 │ 0.0488287 │ 0.00480302  │\n",
            "├─────────────┼──────────┼───────────┼─────────────┤\n",
            "│          10 │ 0.501553 │ 0.0488287 │ 0.00480302  │\n",
            "├─────────────┼──────────┼───────────┼─────────────┤\n",
            "│          11 │ 0.501553 │ 0.0488287 │ 0.00480302  │\n",
            "├─────────────┼──────────┼───────────┼─────────────┤\n",
            "│          12 │ 0.501553 │ 0.0488287 │ 0.00480302  │\n",
            "├─────────────┼──────────┼───────────┼─────────────┤\n",
            "│          13 │ 0.49918  │ 0.0488176 │ 5.00237e-05 │\n",
            "├─────────────┼──────────┼───────────┼─────────────┤\n",
            "│          14 │ 0.49918  │ 0.0488176 │ 5.00237e-05 │\n",
            "├─────────────┼──────────┼───────────┼─────────────┤\n",
            "│          15 │ 0.49918  │ 0.0488176 │ 5.00237e-05 │\n",
            "├─────────────┼──────────┼───────────┼─────────────┤\n",
            "│          16 │ 0.49918  │ 0.0488176 │ 5.00237e-05 │\n",
            "├─────────────┼──────────┼───────────┼─────────────┤\n",
            "│          17 │ 0.49918  │ 0.0488176 │ 5.00237e-05 │\n",
            "├─────────────┼──────────┼───────────┼─────────────┤\n",
            "│          18 │ 0.49918  │ 0.0488176 │ 5.00237e-05 │\n",
            "├─────────────┼──────────┼───────────┼─────────────┤\n",
            "│          19 │ 0.49918  │ 0.0488176 │ 5.00237e-05 │\n",
            "├─────────────┼──────────┼───────────┼─────────────┤\n",
            "│          20 │ 0.49918  │ 0.0488176 │ 5.00237e-05 │\n",
            "├─────────────┼──────────┼───────────┼─────────────┤\n",
            "│          21 │ 0.49918  │ 0.0488176 │ 5.00237e-05 │\n",
            "├─────────────┼──────────┼───────────┼─────────────┤\n",
            "│          22 │ 0.499149 │ 0.0488176 │ 1.25049e-05 │\n",
            "├─────────────┼──────────┼───────────┼─────────────┤\n",
            "│          23 │ 0.499149 │ 0.0488176 │ 1.25049e-05 │\n",
            "├─────────────┼──────────┼───────────┼─────────────┤\n",
            "│          24 │ 0.499161 │ 0.0488176 │ 1.13789e-05 │\n",
            "├─────────────┼──────────┼───────────┼─────────────┤\n",
            "│          25 │ 0.499161 │ 0.0488176 │ 1.13789e-05 │\n",
            "├─────────────┼──────────┼───────────┼─────────────┤\n",
            "│          26 │ 0.499156 │ 0.0488176 │ 2.25611e-06 │\n",
            "├─────────────┼──────────┼───────────┼─────────────┤\n",
            "│          27 │ 0.499156 │ 0.0488176 │ 2.25611e-06 │\n",
            "├─────────────┼──────────┼───────────┼─────────────┤\n",
            "│          28 │ 0.499156 │ 0.0488176 │ 2.25611e-06 │\n",
            "├─────────────┼──────────┼───────────┼─────────────┤\n",
            "│          29 │ 0.499155 │ 0.0488176 │ 1.02506e-07 │\n",
            "├─────────────┼──────────┼───────────┼─────────────┤\n",
            "│          30 │ 0.499155 │ 0.0488176 │ 1.02506e-07 │\n",
            "├─────────────┼──────────┼───────────┼─────────────┤\n",
            "│          31 │ 0.499155 │ 0.0488176 │ 1.02506e-07 │\n",
            "├─────────────┼──────────┼───────────┼─────────────┤\n",
            "│          32 │ 0.499155 │ 0.0488176 │ 1.02506e-07 │\n",
            "├─────────────┼──────────┼───────────┼─────────────┤\n",
            "│          33 │ 0.499155 │ 0.0488176 │ 1.02506e-07 │\n",
            "├─────────────┼──────────┼───────────┼─────────────┤\n",
            "│          34 │ 0.499155 │ 0.0488176 │ 1.02506e-07 │\n",
            "├─────────────┼──────────┼───────────┼─────────────┤\n",
            "│          35 │ 0.499155 │ 0.0488176 │ 1.02506e-07 │\n",
            "├─────────────┼──────────┼───────────┼─────────────┤\n",
            "│          36 │ 0.499155 │ 0.0488176 │ 2.83319e-08 │\n",
            "├─────────────┼──────────┼───────────┼─────────────┤\n",
            "│          37 │ 0.499155 │ 0.0488176 │ 2.83319e-08 │\n",
            "├─────────────┼──────────┼───────────┼─────────────┤\n",
            "│          38 │ 0.499155 │ 0.0488176 │ 2.83319e-08 │\n",
            "├─────────────┼──────────┼───────────┼─────────────┤\n",
            "│          39 │ 0.499155 │ 0.0488176 │ 1.08218e-08 │\n",
            "├─────────────┼──────────┼───────────┼─────────────┤\n",
            "│          40 │ 0.499155 │ 0.0488176 │ 0           │\n",
            "├─────────────┼──────────┼───────────┼─────────────┤\n",
            "│          41 │ 0.499155 │ 0.0488176 │ 0           │\n",
            "├─────────────┼──────────┼───────────┼─────────────┤\n",
            "│          42 │ 0.499155 │ 0.0488176 │ 0           │\n",
            "╘═════════════╧══════════╧═══════════╧═════════════╛\n"
          ]
        }
      ]
    },
    {
      "cell_type": "code",
      "metadata": {
        "colab": {
          "base_uri": "https://localhost:8080/"
        },
        "id": "yD_RToEVg7U-",
        "outputId": "b2dbc026-f7bf-41ca-9fa0-ba30dc436d78"
      },
      "source": [
        "#Tabla de Datos Brent\n",
        "Datos2 = {'Iteración': list(range(1, len(Error2)+1)), 'x': X2 , 'g(x)': g(np.array(X2)), 'Error': Error2}\n",
        "print(tabulate(Datos2, headers='keys', tablefmt='fancy_grid'))"
      ],
      "id": "yD_RToEVg7U-",
      "execution_count": null,
      "outputs": [
        {
          "output_type": "stream",
          "name": "stdout",
          "text": [
            "╒═════════════╤══════════╤═══════════╤═════════════╕\n",
            "│   Iteración │        x │      g(x) │       Error │\n",
            "╞═════════════╪══════════╪═══════════╪═════════════╡\n",
            "│           1 │ 1        │ 0.399717  │ 1.00338     │\n",
            "├─────────────┼──────────┼───────────┼─────────────┤\n",
            "│           2 │ 0.236068 │ 0.216426  │ 0.527065    │\n",
            "├─────────────┼──────────┼───────────┼─────────────┤\n",
            "│           3 │ 0.511882 │ 0.0491272 │ 0.0254972   │\n",
            "├─────────────┼──────────┼───────────┼─────────────┤\n",
            "│           4 │ 0.511882 │ 0.0491272 │ 0.0254972   │\n",
            "├─────────────┼──────────┼───────────┼─────────────┤\n",
            "│           5 │ 0.505386 │ 0.0488922 │ 0.012482    │\n",
            "├─────────────┼──────────┼───────────┼─────────────┤\n",
            "│           6 │ 0.498699 │ 0.048818  │ 0.000914855 │\n",
            "├─────────────┼──────────┼───────────┼─────────────┤\n",
            "│           7 │ 0.499124 │ 0.0488176 │ 6.27772e-05 │\n",
            "├─────────────┼──────────┼───────────┼─────────────┤\n",
            "│           8 │ 0.499157 │ 0.0488176 │ 2.68239e-06 │\n",
            "├─────────────┼──────────┼───────────┼─────────────┤\n",
            "│           9 │ 0.499155 │ 0.0488176 │ 1.482e-08   │\n",
            "├─────────────┼──────────┼───────────┼─────────────┤\n",
            "│          10 │ 0.499155 │ 0.0488176 │ 0           │\n",
            "├─────────────┼──────────┼───────────┼─────────────┤\n",
            "│          11 │ 0.499155 │ 0.0488176 │ 0           │\n",
            "├─────────────┼──────────┼───────────┼─────────────┤\n",
            "│          12 │ 0.499155 │ 0.0488176 │ 0           │\n",
            "╘═════════════╧══════════╧═══════════╧═════════════╛\n"
          ]
        }
      ]
    },
    {
      "cell_type": "markdown",
      "metadata": {
        "id": "KxAbY6ojTaNN"
      },
      "source": [
        "## Tasa de cambio\n",
        "\n",
        "Habiendo estudiado ambos métodos nos vemos interesados en comprar sus tasas, para ello utilizamos los valores hallados en las listas $X1$ y $X2$ para crear una nueva lista de tasas $T$."
      ],
      "id": "KxAbY6ojTaNN"
    },
    {
      "cell_type": "code",
      "metadata": {
        "id": "GE3gzS8uUQHc"
      },
      "source": [
        "#Se realizan las listas Y1 y Y2 con el valor absoluto de la diferencia de los valores obtenidos en\n",
        "#X1 y X2 con sus respectivos valores teóricos\n",
        "\n",
        "#Método de Golden Section\n",
        "Y1=abs(np.array(X1)-X1[-1])\n",
        "\n",
        "#Método de Brent\n",
        "Y2=abs(np.array(X2)-X2[-1])"
      ],
      "id": "GE3gzS8uUQHc",
      "execution_count": null,
      "outputs": []
    },
    {
      "cell_type": "markdown",
      "metadata": {
        "id": "eyqAaCo0naLA"
      },
      "source": [
        "Creamos la lista de tasas $T1$ para el método de la Golden Section, graficamos los puntos encontrados y comparamos la gráfica con el número áureo:"
      ],
      "id": "eyqAaCo0naLA"
    },
    {
      "cell_type": "code",
      "metadata": {
        "colab": {
          "base_uri": "https://localhost:8080/",
          "height": 354
        },
        "id": "Zj3vDs2gUV5u",
        "outputId": "b5cefba5-afee-4cbc-c7ad-8161f04dba37"
      },
      "source": [
        "T1=[]\n",
        "for i in range(len(Y1)-1):\n",
        "  t1=Y1[i+1]/Y1[i]\n",
        "  T1.append(t1)\n",
        "print(T1)\n",
        "p=(1+np.sqrt(5))/2\n",
        "plt.plot(T1)\n",
        "plt.plot(p*np.ones(len(T1)))"
      ],
      "id": "Zj3vDs2gUV5u",
      "execution_count": null,
      "outputs": [
        {
          "output_type": "stream",
          "name": "stdout",
          "text": [
            "[1.0, 0.10912225037496923, 1.0, 1.0, 1.0, 0.4829125490280839, 1.0, 0.17292911660957094, 1.0, 1.0, 1.0, 0.010415052844748815, 1.0, 1.0, 1.0, 1.0, 1.0, 1.0, 1.0, 1.0, 0.24997934191544371, 1.0, 0.9099563114075225, 1.0, 0.19827096928766932, 1.0, 1.0, 0.045434885252034436, 1.0, 1.0, 1.0, 1.0, 1.0, 1.0, 0.27639320121982947, 1.0, 1.0, 0.3819660134657553, 0.0, nan, nan]\n"
          ]
        },
        {
          "output_type": "stream",
          "name": "stderr",
          "text": [
            "/usr/local/lib/python3.7/dist-packages/ipykernel_launcher.py:3: RuntimeWarning: invalid value encountered in double_scalars\n",
            "  This is separate from the ipykernel package so we can avoid doing imports until\n"
          ]
        },
        {
          "output_type": "execute_result",
          "data": {
            "text/plain": [
              "[<matplotlib.lines.Line2D at 0x7f92e9617590>]"
            ]
          },
          "metadata": {},
          "execution_count": 24
        },
        {
          "output_type": "display_data",
          "data": {
            "image/png": "[encoded data removed]",
            "text/plain": [
              "<Figure size 432x288 with 1 Axes>"
            ]
          },
          "metadata": {
            "needs_background": "light"
          }
        }
      ]
    },
    {
      "cell_type": "markdown",
      "metadata": {
        "id": "Y0ddbJApn7YP"
      },
      "source": [
        "Creamos la lista de tasas $T2$ para el método de Brent, graficamos los puntos encontrados y comparamos la gráfica con el número áureo:"
      ],
      "id": "Y0ddbJApn7YP"
    },
    {
      "cell_type": "code",
      "metadata": {
        "id": "EcUlUE0nn_9Y",
        "colab": {
          "base_uri": "https://localhost:8080/",
          "height": 317
        },
        "outputId": "fbbcc87c-d3b0-40a7-fab9-a411f0c0aee2"
      },
      "source": [
        "T2=[]\n",
        "for i in range(len(Y2)-1):\n",
        "  t2=Y2[i+1]/Y2[i]\n",
        "  T2.append(t2)\n",
        "\n",
        "p=(1+np.sqrt(5))/2\n",
        "plt.plot(T2)\n",
        "plt.plot(p*np.ones(len(T2)))"
      ],
      "id": "EcUlUE0nn_9Y",
      "execution_count": null,
      "outputs": [
        {
          "output_type": "stream",
          "name": "stderr",
          "text": [
            "/usr/local/lib/python3.7/dist-packages/ipykernel_launcher.py:3: RuntimeWarning: invalid value encountered in double_scalars\n",
            "  This is separate from the ipykernel package so we can avoid doing imports until\n"
          ]
        },
        {
          "output_type": "execute_result",
          "data": {
            "text/plain": [
              "[<matplotlib.lines.Line2D at 0x7f132d47e890>]"
            ]
          },
          "metadata": {},
          "execution_count": 111
        },
        {
          "output_type": "display_data",
          "data": {
            "image/png": "[encoded data removed]",
            "text/plain": [
              "<Figure size 432x288 with 1 Axes>"
            ]
          },
          "metadata": {
            "needs_background": "light"
          }
        }
      ]
    },
    {
      "cell_type": "markdown",
      "metadata": {
        "id": "0a4508b8"
      },
      "source": [
        "# Conclusiones\n",
        "\n",
        "1. La tasa de cambio en el método de la Golden Section se mantiene constante excepto por algunos casos, manteniendose siempre por debajo del número áureo.\n",
        "2. Aplicar el método de Brent resulta ser mas práctico, pues su convergencia es mas rápida y en menos número de iteraciones\n",
        "3. La tasa de cambio del método de Brent presenta un cambio brusco en las primeras iteraciones y luego empieza a decrecer lentamente indicando que se está acercando cada vez mas al valor requerido haciendo un cambio mínimo en los puntos. "
      ],
      "id": "0a4508b8"
    },
    {
      "cell_type": "markdown",
      "metadata": {
        "id": "6c4fff16"
      },
      "source": [
        "# Referencias y Bibliografía\n",
        "\n",
        "1. Heath, M. T. (2018). Scientific Computing: An Introductory Survey, Revised Second Edition. Society for Industrial and Applied Mathematics.\n",
        "2. Chong, E. K., & Zak, S. H. (2004). An introduction to optimization. John Wiley & Sons."
      ],
      "id": "6c4fff16"
    }
  ]
}